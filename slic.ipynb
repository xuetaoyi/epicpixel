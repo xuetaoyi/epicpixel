{
 "metadata": {
  "name": "",
  "signature": "sha256:624b342e7c30ebba5af6476324c4b22383fc16767bebff1813e9ce27c329be1a"
 },
 "nbformat": 3,
 "nbformat_minor": 0,
 "worksheets": [
  {
   "cells": [
    {
     "cell_type": "code",
     "collapsed": false,
     "input": [
      "# example code from skimage homepage.\n",
      "from skimage import data, io, filter\n",
      "image = data.coins()\n",
      "edges = filter.sobel(image)\n",
      "io.imshow(edges)\n",
      "io.show()"
     ],
     "language": "python",
     "metadata": {},
     "outputs": [],
     "prompt_number": 8
    },
    {
     "cell_type": "code",
     "collapsed": false,
     "input": [
      "# segmentation package slic function\n",
      "# try to run it on the set of airial images."
     ],
     "language": "python",
     "metadata": {},
     "outputs": []
    }
   ],
   "metadata": {}
  }
 ]
}